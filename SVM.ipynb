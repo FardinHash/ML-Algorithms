{
  "nbformat": 4,
  "nbformat_minor": 0,
  "metadata": {
    "colab": {
      "name": "SVM.ipynb",
      "provenance": []
    },
    "kernelspec": {
      "name": "python3",
      "display_name": "Python 3"
    },
    "language_info": {
      "name": "python"
    }
  },
  "cells": [
    {
      "cell_type": "code",
      "execution_count": 3,
      "metadata": {
        "id": "CPv4lSuG0K-j"
      },
      "outputs": [],
      "source": [
        "#import libraries \n",
        "\n",
        "import numpy as np\n",
        "import pandas as pd\n",
        "import matplotlib.pyplot as plt\n",
        "\n",
        "from sklearn import svm, metrics\n",
        "from sklearn.model_selection import train_test_split"
      ]
    },
    {
      "cell_type": "code",
      "source": [
        "#import dataset"
      ],
      "metadata": {
        "id": "X3aQYe25_2oc"
      },
      "execution_count": null,
      "outputs": []
    },
    {
      "cell_type": "code",
      "source": [
        "#train test\n",
        "\n",
        "X_train, X_test, y_train, y_test = train_test_split(X, Y, test_size= , random_state= )"
      ],
      "metadata": {
        "id": "GKe515Pr_iHi"
      },
      "execution_count": null,
      "outputs": []
    },
    {
      "cell_type": "code",
      "source": [
        "#SVM classifier\n",
        "\n",
        "svm_cl= svm.SVC(kernel= 'linear')"
      ],
      "metadata": {
        "id": "NOvfShms_xej"
      },
      "execution_count": null,
      "outputs": []
    },
    {
      "cell_type": "code",
      "source": [
        "#fit the classifier\n",
        "\n",
        "svm_cl.fit(X_train, y_train)"
      ],
      "metadata": {
        "id": "l0rEazjtAZ_r"
      },
      "execution_count": null,
      "outputs": []
    },
    {
      "cell_type": "code",
      "source": [
        "#prediction\n",
        "\n",
        "predict= svm_cl.predict(X_test)"
      ],
      "metadata": {
        "id": "SkWMlfQpAw4S"
      },
      "execution_count": null,
      "outputs": []
    },
    {
      "cell_type": "code",
      "source": [
        "#Model's performance- accuracy, precision\n",
        "\n",
        "metrics.accuracy_score(y_test, y_pred_test)\n",
        "metrics.precision_score(y_test, y_pred_test)\n",
        "\n"
      ],
      "metadata": {
        "id": "BWQiJw4IBYIO"
      },
      "execution_count": null,
      "outputs": []
    }
  ]
}
