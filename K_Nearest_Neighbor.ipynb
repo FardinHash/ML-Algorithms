{
  "nbformat": 4,
  "nbformat_minor": 0,
  "metadata": {
    "colab": {
      "name": "K-Nearest Neighbor.ipynb",
      "provenance": []
    },
    "kernelspec": {
      "name": "python3",
      "display_name": "Python 3"
    },
    "language_info": {
      "name": "python"
    }
  },
  "cells": [
    {
      "cell_type": "code",
      "execution_count": 6,
      "metadata": {
        "id": "f19_aRIF54Rk"
      },
      "outputs": [],
      "source": [
        "#import libraries \n",
        "\n",
        "import os\n",
        "import numpy as np\n",
        "import pandas as pd\n",
        "import matplotlib.pyplot as plt\n",
        "\n",
        "from sklearn.neighbors import KNeighborsClassifier\n",
        "\n",
        "from sklearn.model_selection import train_test_split\n",
        "from sklearn.metrics import confusion_matrix, accuracy_score, classification_report"
      ]
    },
    {
      "cell_type": "code",
      "source": [
        "#Data train test\n",
        "\n",
        "X_train, X_test, y_train, y_test = train_test_split(X, y, test_size=, random_state= )"
      ],
      "metadata": {
        "id": "8ZMdaU3G64xn"
      },
      "execution_count": null,
      "outputs": []
    },
    {
      "cell_type": "code",
      "source": [
        "#Create model\n",
        "\n",
        "model = KNeighborsClassifier(n_neighbors=1)"
      ],
      "metadata": {
        "id": "s2kFK7th7EJL"
      },
      "execution_count": null,
      "outputs": []
    },
    {
      "cell_type": "code",
      "source": [
        "#Model fit\n",
        "\n",
        "model.fit(X_train, y_train) #based on train sets"
      ],
      "metadata": {
        "id": "lviNE_oJ9R4H"
      },
      "execution_count": null,
      "outputs": []
    },
    {
      "cell_type": "code",
      "source": [
        "#prediction\n",
        "\n",
        "pred= model.predict(X_test)"
      ],
      "metadata": {
        "id": "MwEgBVCf9rGE"
      },
      "execution_count": null,
      "outputs": []
    },
    {
      "cell_type": "code",
      "source": [
        "#Matrix and accuracy score\n",
        "\n",
        "conf_mat= confusion_matrix(y_test, predict)\n",
        "acc_score= accuracy_score(y_test, predict)"
      ],
      "metadata": {
        "id": "nQZl3Yjw-TM7"
      },
      "execution_count": null,
      "outputs": []
    },
    {
      "cell_type": "code",
      "source": [
        "print(conf_mat)\n",
        "print(acc_score)"
      ],
      "metadata": {
        "id": "DO6-6uFh-sSo"
      },
      "execution_count": null,
      "outputs": []
    }
  ]
}