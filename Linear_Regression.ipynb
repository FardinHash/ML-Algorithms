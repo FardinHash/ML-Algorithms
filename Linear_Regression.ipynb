{
  "nbformat": 4,
  "nbformat_minor": 0,
  "metadata": {
    "colab": {
      "name": "Linear Regression.ipynb",
      "provenance": []
    },
    "kernelspec": {
      "name": "python3",
      "display_name": "Python 3"
    },
    "language_info": {
      "name": "python"
    }
  },
  "cells": [
    {
      "cell_type": "code",
      "execution_count": 1,
      "metadata": {
        "id": "L93PEtnygZUI"
      },
      "outputs": [],
      "source": [
        "#Libraries \n",
        "\n",
        "import pandas as pd\n",
        "import numpy as np\n",
        "\n",
        "from sklearn import linear_model"
      ]
    },
    {
      "cell_type": "code",
      "source": [
        "#Train Test\n",
        "\n",
        "x_train= input_variables_values_training_datasets\n",
        "y_train= target_variables_values_training_datasets\n",
        "\n",
        "x_test= input_variables_values_test_datasets"
      ],
      "metadata": {
        "id": "I0ORaEO-g_hF"
      },
      "execution_count": 3,
      "outputs": []
    },
    {
      "cell_type": "code",
      "source": [
        "#Linear Regression object\n",
        "\n",
        "linear= linear_model.LinearRegression()"
      ],
      "metadata": {
        "id": "2rv8WXnWhbQZ"
      },
      "execution_count": 4,
      "outputs": []
    },
    {
      "cell_type": "code",
      "source": [
        "#Train the model, fit and score\n",
        "\n",
        "linear.fit(x_train, y_train)\n",
        "\n",
        "linear.score(x_train, y_train)"
      ],
      "metadata": {
        "id": "spnYThREiF4c"
      },
      "execution_count": null,
      "outputs": []
    },
    {
      "cell_type": "code",
      "source": [
        "#Coefficient and Intercept\n",
        "\n",
        "print('Coefficient: ', linear.coef_)\n",
        "print('Intercept: ', linear.intercept_)"
      ],
      "metadata": {
        "id": "UzGgIa-uighC"
      },
      "execution_count": null,
      "outputs": []
    },
    {
      "cell_type": "code",
      "source": [
        "#Prediction\n",
        "\n",
        "predict= linear.predict(x_test)"
      ],
      "metadata": {
        "id": "UCGsLOBrjJOq"
      },
      "execution_count": null,
      "outputs": []
    }
  ]
}